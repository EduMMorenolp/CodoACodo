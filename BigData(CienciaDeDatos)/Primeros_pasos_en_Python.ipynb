{
  "nbformat": 4,
  "nbformat_minor": 0,
  "metadata": {
    "colab": {
      "provenance": []
    },
    "kernelspec": {
      "name": "python3",
      "display_name": "Python 3"
    },
    "language_info": {
      "name": "python"
    }
  },
  "cells": [
    {
      "cell_type": "markdown",
      "source": [
        "# UNIDAD I : Primeros pasos en Python\n",
        "\n",
        "### Tipos de datos en Python\n",
        "Los tipos de datos se pueden clasificar en:\n",
        "* **Mutable: su valor puede cambiarse en tiempo de ejecución.**\n",
        "* **Inmutable: su valor no puede cambiarse en tiempo de ejecución.**\n",
        "\n",
        "* Enteros (int) Representan todos los números enteros (positivos, negativos y 0), sin parte decimal.\n",
        "* Reales (float) Representa los números reales, tienen una parte entera y otra decimal.\n",
        "* Complejos (complex) Representan números complejos, con una parte real y otra imaginaria. Son tipos de datos inmutables.\n",
        "* Booleanos Pueden tener únicamente dos tipos de valores: \"True\" o \"False\". Estos sirven para agregar atributos a la variable si es verdadero o falso.\n",
        "\n"
      ],
      "metadata": {
        "id": "NRt4qU-YYGL2"
      }
    },
    {
      "cell_type": "code",
      "source": [
        "# Tipo de dato Entero :\n",
        "entero = 10\n",
        "print(\"Esto es un tipo entero\", entero)\n",
        "# Tipo de dato Reales :\n",
        "reales = 1.5\n",
        "print(\"Esto es un tipo reales\", reales)\n",
        "# Tipo de dato Complejos :\n",
        "complejo = 1j\n",
        "print(\"Esto es un tipo complejo\", complejo)\n",
        "# Tipo de dato Booleano :\n",
        "booleano = False # o True\n",
        "print(\"Esto es un tipo booleano\", booleano)"
      ],
      "metadata": {
        "colab": {
          "base_uri": "https://localhost:8080/"
        },
        "id": "YRqzovT8aEaB",
        "outputId": "bbe1258d-7c65-49d3-ef50-b73c370565c6"
      },
      "execution_count": 9,
      "outputs": [
        {
          "output_type": "stream",
          "name": "stdout",
          "text": [
            "Esto es un tipo entero 10\n",
            "Esto es un tipo reales 1.5\n",
            "Esto es un tipo complejo 1j\n",
            "Esto es un tipo booleano False\n"
          ]
        }
      ]
    },
    {
      "cell_type": "markdown",
      "source": [
        "* Cadena : (str) Permite almacenar cadenas de caracteres. Es de tipo inmutable.\n",
        "* Lista : (list) Variable que almacenan arrays, internamente cada posición puede ser un tipo de datos distinto. Se escribe entre corchetes, y sus elementos se separan con comas.\n",
        "#####  Ejemplo: ingredientes = ['huevos', 'harina', 'leche', 'azúcar']\n",
        "* Tupla : Las tuplas son objetos de tipo secuencia, específicamente es un tipo de dato lista inmutable. Esta no puede modificarse de ningún modo después de su creación.\n",
        "##### Ejemplo: mi_tupla = ('Python', True, 'ananá', 34)\n",
        "* Diccionario (dict) Pueden ser creados colocando una lista separada por coma de pares \"key:value\" entre {}. Único tipo de mapeo estándar actual.\n",
        "##### Ejemplo: mi_dict = {'Ana': 27, 'Juan': 51}\n",
        "#### **Conjuntos**\n",
        " Un conjunto, es una colección no ordenada y sin elementos repetidos. Los usos básicos de éstos incluyen verificación de pertenencia y eliminación de entradas duplicadas.\n",
        "* set: Mutable, sin orden, no contiene duplicados.\n",
        "##### Ejemplo: my_set = set([3.6, 'Entre Ríos', False])\n",
        "* frozenset: Inmutable, sin orden, no contiene duplicados.\n",
        "##### Ejemplo: my_fs = frozenset([3.6, 'Entre Ríos', False])\n"
      ],
      "metadata": {
        "id": "JH10zEsnbRFO"
      }
    },
    {
      "cell_type": "code",
      "source": [
        "# Tipo de dato Cadena :\n",
        "cadena = \"Hola mundo ! \"\n",
        "print(\"Esto es un tipo cadena :\", cadena, type(cadena))\n",
        "# Tipo de dato Lista :\n",
        "lista = [1, \"tomate\", True]\n",
        "print(\"Esto es un tipo lista :\", lista, type(lista))\n",
        "# Tipo de dato Tupla :\n",
        "tupla = (1, \"tomate\", True, \"Inmutable\")\n",
        "print(\"Esto es un tipo tupla :\", tupla, type(tupla))\n",
        "# Tipo de dato Diccionario :\n",
        "diccionario = {\"nombre\":\"Eduardo\",\"apellido\":\"Moreno\"}\n",
        "print(\"Esto es un tipo diccionario :\", diccionario, type(diccionario))\n",
        "# Tipo de dato Set :\n",
        "unset = set([36, True, \"Mutable\"])\n",
        "print(\"Esto es un tipo Set :\", unset, type(unset))\n",
        "# Tipo de dato Fronzenset :\n",
        "unfrozenset = frozenset([32, False, \"Inmutable\"])\n",
        "print(\"Esto es un tipo FrozenSet :\", unfrozenset, type(unfrozenset))"
      ],
      "metadata": {
        "colab": {
          "base_uri": "https://localhost:8080/"
        },
        "id": "P1bcccq8cJ54",
        "outputId": "b1dcf5b8-187a-43c6-e8bc-9338bc6c206c"
      },
      "execution_count": 1,
      "outputs": [
        {
          "output_type": "stream",
          "name": "stdout",
          "text": [
            "Esto es un tipo cadena : Hola mundo !  <class 'str'>\n",
            "Esto es un tipo lista : [1, 'tomate', True] <class 'list'>\n",
            "Esto es un tipo tupla : (1, 'tomate', True, 'Inmutable') <class 'tuple'>\n",
            "Esto es un tipo diccionario : {'nombre': 'Eduardo', 'apellido': 'Moreno'} <class 'dict'>\n",
            "Esto es un tipo Set : {True, 'Mutable', 36} <class 'set'>\n",
            "Esto es un tipo FrozenSet : frozenset({32, False, 'Inmutable'}) <class 'frozenset'>\n"
          ]
        }
      ]
    },
    {
      "cell_type": "markdown",
      "source": [
        "# UNIDAD II: Operadores en Python\n",
        "### De asignación\n",
        "Se utilizan para asignar valores a una variable.\n",
        "- b = 5 la variable b vale 5\n",
        "- b += 5 equivale a b = b + 5\n",
        "- b -= 5 equivale a b = b - 5\n",
        "- b *= 5 equivale a b = b * 5\n",
        "- b /= 5 equivale a b = b / 5\n",
        "- b %= 5 equivale a b = b % 5\n",
        "- b * *= 5 equivale a b = b * * 5\n",
        "- b //= 5 equivale a b = b // 5\n",
        "\n",
        "### Matemáticos\n",
        "Son todos aquellos que nos permiten a hacer cualquier operación básica."
      ],
      "metadata": {
        "id": "y9zO-AJug455"
      }
    },
    {
      "cell_type": "code",
      "source": [
        "# Asigna a la Variable\n",
        "numero = 10\n",
        "print(\"Asignacion :\",numero)\n",
        "# Suma a la Variable + la Variable\n",
        "numero += 10\n",
        "print(\"Suma :\", numero)\n",
        "# Resta a la Variable - la Variable\n",
        "numero -= 5\n",
        "print(\"Resta :\",numero)\n",
        "# Multiplica a la Varible * la Variable\n",
        "numero *= 2\n",
        "print(\"Multiplica :\",numero)\n",
        "# Divide a la Varible / la Variable\n",
        "numero /= 3\n",
        "print(\"Divide :\",numero)\n",
        "# Resto de la Variable % la Variable\n",
        "numero %= 3\n",
        "print(\"Resto : \",numero)\n",
        "# Potencia de la Variable ** la Variable\n",
        "numero = 2\n",
        "numero **= 3\n",
        "print(\"Potencia : \",numero)\n",
        "# Division entera de la Variable // la Variable\n",
        "numero //= 2\n",
        "print(\"Division entera : \",numero)"
      ],
      "metadata": {
        "colab": {
          "base_uri": "https://localhost:8080/"
        },
        "id": "IPgwMXjDg8ev",
        "outputId": "c105494d-13fa-4ca5-fbac-41aeeec5a5fa"
      },
      "execution_count": 25,
      "outputs": [
        {
          "output_type": "stream",
          "name": "stdout",
          "text": [
            "Asignacion : 10\n",
            "Suma : 20\n",
            "Resta : 15\n",
            "Multiplica : 30\n",
            "Divide : 10.0\n",
            "Resto :  1.0\n",
            "Potencia :  8\n",
            "Division entera :  4\n"
          ]
        }
      ]
    },
    {
      "cell_type": "markdown",
      "source": [
        "### Relacionales\n",
        "Se utilizan para comparar y establecer la relación entre dos valores. Devuelve un valor\n",
        "booleano basado en la condición.\n",
        "* **> mayor que**\n",
        "* **< menor que**\n",
        "* **== igual a**\n",
        "* **>= mayor o igual que**\n",
        "* **<= menor o igual que**\n",
        "* **!= distinto a**"
      ],
      "metadata": {
        "id": "NOQgGWWVj8tQ"
      }
    },
    {
      "cell_type": "code",
      "source": [
        "# > mayor que\n",
        "booleano = 2 > 3\n",
        "print(\"2 es mayor que 3 :\",booleano)\n",
        "# < menor que\n",
        "booleano = 2 < 3\n",
        "print(\"2 es menor que 3 :\",booleano)\n",
        "# == igual que\n",
        "booleano = 2 == 3\n",
        "print(\"2 es igual que 3 :\",booleano)\n",
        "# => mayor o igual que\n",
        "booleano = 3 >= 3\n",
        "print(\"3 es mayor o igual que 3 :\",booleano)\n",
        "# <= menor o igual que\n",
        "booleano = 2 <= 3\n",
        "print(\"2 es menor o igual que 3 :\",booleano)\n",
        "# != distinto a\n",
        "booleano = 2 != 3\n",
        "print(\"2 es distinto a 3 :\",booleano)"
      ],
      "metadata": {
        "colab": {
          "base_uri": "https://localhost:8080/"
        },
        "id": "iW9cifGlkSoL",
        "outputId": "0cccebea-8c15-483a-d4af-882644275afd"
      },
      "execution_count": 24,
      "outputs": [
        {
          "output_type": "stream",
          "name": "stdout",
          "text": [
            "2 es mayor que 3 : False\n",
            "2 es menor que 3 : True\n",
            "2 es igual que 3 : False\n",
            "3 es mayor o igual que 3 : True\n",
            "2 es menor o igual que 3 : True\n",
            "2 es distinto a 3 : True\n"
          ]
        }
      ]
    },
    {
      "cell_type": "markdown",
      "source": [
        "### Lógicos\n",
        "Operan con datos booleanos. Se utilizan para tomar una decisión basada en múltiples condiciones.\n",
        "* b and c Devuelve True si todos los operandos son True\n",
        "* b or c Devuelve True si al menos uno de los operandos es True\n",
        "* not b Devuelve True si el operando b es False"
      ],
      "metadata": {
        "id": "r4qUy9K8mTew"
      }
    },
    {
      "cell_type": "code",
      "source": [
        "# Definimos dos variables booleanas\n",
        "b = True\n",
        "c = False\n",
        "# Operador \"and\" - Devuelve True si ambos operandos son True\n",
        "print(\"b and b:\", b and b)\n",
        "print(\"b and c:\", b and c)\n",
        "# Operador \"or\" - Devuelve True si al menos uno de los operandos es True\n",
        "print(\"b or c:\", b or c)\n",
        "print(\"c or c:\", c or c)\n",
        "# Operador \"not\" - Devuelve True si el operando b es False\n",
        "print(\"not b:\", not b)\n",
        "print(\"not c:\", not c)"
      ],
      "metadata": {
        "colab": {
          "base_uri": "https://localhost:8080/"
        },
        "id": "zz0Wrlh3mmsp",
        "outputId": "3073fa55-afd4-40b3-be9a-e9ecbc81d084"
      },
      "execution_count": 42,
      "outputs": [
        {
          "output_type": "stream",
          "name": "stdout",
          "text": [
            "b and b: True\n",
            "b and c: False\n",
            "b or c: True\n",
            "c or c: False\n",
            "not b: False\n",
            "not c: True\n"
          ]
        }
      ]
    },
    {
      "cell_type": "markdown",
      "source": [
        "### De pertenencia\n",
        "Identifica pertenencia en alguna secuencia (listas, strings, tuplas)\n",
        "* in Devuelve True si el valor especificado se encuentra en la secuencia\n",
        "* not in Devuelve True si el valor especificado no se encuentra en la secuencia"
      ],
      "metadata": {
        "id": "gwywelZInxaO"
      }
    },
    {
      "cell_type": "code",
      "source": [
        "# Ejemplo con una lista\n",
        "mi_lista = [1, 2, 3, 4, 5]\n",
        "valor = 3\n",
        "# Verificamos si un valor está en la lista\n",
        "print(valor in mi_lista)\n",
        "# Verificamos si un valor no está en la lista\n",
        "valor = 6\n",
        "print(valor not in mi_lista)"
      ],
      "metadata": {
        "colab": {
          "base_uri": "https://localhost:8080/"
        },
        "id": "ZrfE0q-hny9W",
        "outputId": "75da07e9-9414-4c92-a205-4c3b61673844"
      },
      "execution_count": 38,
      "outputs": [
        {
          "output_type": "stream",
          "name": "stdout",
          "text": [
            "True\n",
            "True\n"
          ]
        }
      ]
    },
    {
      "cell_type": "markdown",
      "source": [
        "### Indentación en Python\n",
        "> Python utiliza la indentación para delimitar estructuras, estableciendo bloques de código.\n",
        "\n",
        "> No existe otra manera de finalizar las líneas, llaves ni punto y coma.\n",
        "Los únicos delimitadores de los que disponemos son los dos puntos y la indentación del código. Éstos definen la lógica de nuestro progrmaa, por lo que debemos ser muy cuidadosos.\n",
        "\n",
        "> Generalmente la indentación consiste en dejar una sangría de 2 a 4 espacios desde el\n",
        "inicio del bloque."
      ],
      "metadata": {
        "id": "THpNA9LFqQsH"
      }
    },
    {
      "cell_type": "markdown",
      "source": [
        "### Líneas comentadas\n",
        "> Podemos insertar líneas de comentarios en nuestro código que servirá de documentación,(y que será ignorado por el intérprete de Python) con el símbolo  #.\n",
        "\n",
        "> Si necesitamos insertar un bloque de comentario en lugar de sólo una línea, lo abriremos y cerraremos con una triple comilla ‘ ’ ’.\n"
      ],
      "metadata": {
        "id": "k-lPKgIoqmYg"
      }
    },
    {
      "cell_type": "markdown",
      "source": [
        "### Entrada y salida de datos en Python\n",
        "* **print()**\n",
        "La función print() muestra un mensaje por pantalla.\n",
        "* **input()**\n",
        "La función input() espera un dato por teclado. Conviene incluir un mensaje para que el\n",
        "usuario sepa qué es lo que debe ingresar."
      ],
      "metadata": {
        "id": "kbaNvssKr5pH"
      }
    },
    {
      "cell_type": "code",
      "source": [
        "print(\"Hola soy Eduardo Moreno \")\n",
        "nombre = input(\"Y tu como te llamas ? \")\n",
        "print(\"Hola\", nombre)"
      ],
      "metadata": {
        "colab": {
          "base_uri": "https://localhost:8080/"
        },
        "id": "EnBOEWAxsCb-",
        "outputId": "c7d6f996-4eee-46af-b233-890e609c27f4"
      },
      "execution_count": 48,
      "outputs": [
        {
          "output_type": "stream",
          "name": "stdout",
          "text": [
            "Hola soy Eduardo Moreno \n",
            "Y tu como te llamas ? Juan\n",
            "Hola  Juan\n"
          ]
        }
      ]
    }
  ]
}